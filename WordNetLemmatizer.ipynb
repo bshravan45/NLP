{
  "nbformat": 4,
  "nbformat_minor": 0,
  "metadata": {
    "colab": {
      "name": "WordNetLemmatizer.ipynb",
      "version": "0.3.2",
      "provenance": [],
      "include_colab_link": true
    },
    "kernelspec": {
      "name": "python3",
      "display_name": "Python 3"
    }
  },
  "cells": [
    {
      "cell_type": "markdown",
      "metadata": {
        "id": "view-in-github",
        "colab_type": "text"
      },
      "source": [
        "<a href=\"https://colab.research.google.com/github/bshravan45/NLP/blob/master/WordNetLemmatizer.ipynb\" target=\"_parent\"><img src=\"https://colab.research.google.com/assets/colab-badge.svg\" alt=\"Open In Colab\"/></a>"
      ]
    },
    {
      "metadata": {
        "id": "BjM13dP_5qBB",
        "colab_type": "code",
        "colab": {}
      },
      "cell_type": "code",
      "source": [
        "install "
      ],
      "execution_count": 0,
      "outputs": []
    },
    {
      "metadata": {
        "id": "qsYg4eAY5cnU",
        "colab_type": "code",
        "colab": {
          "base_uri": "https://localhost:8080/",
          "height": 238
        },
        "outputId": "c16fc6e1-855c-489d-a25f-02754ec83426"
      },
      "cell_type": "code",
      "source": [
        "import nltk\n",
        "from nltk.stem import WordNetLemmatizer\n",
        "lmt=WordNetLemmatizer()\n",
        "print(lmt.lemmatize('increases'))\n",
        "print(lmt.lemmatize('playing', pos=\"v\"))## denotes in form of verb pos=\"v\"\n",
        "print(lmt.lemmatize('playing', pos=\"a\"))# a denotes adjective in \"pos\"\n",
        "print(lmt.lemmatize('playing', pos=\"r\"))# r denotes adverb in \"pos\"\n",
        "print(lmt.lemmatize(\"cats\"))\n",
        "print(lmt.lemmatize(\"cacti\"))\n",
        "print(lmt.lemmatize(\"geese\"))\n",
        "print(lmt.lemmatize(\"rocks\"))\n",
        "print(lmt.lemmatize(\"python\"))\n",
        "print(lmt.lemmatize(\"better\", pos=\"a\"))# a denotes adjective in \"pos\"\n",
        "print(lmt.lemmatize(\"best\", pos=\"a\"))\n",
        "print(lmt.lemmatize(\"run\"))\n",
        "print(lmt.lemmatize(\"runs\",'n'))# n denotes noun in \"pos\""
      ],
      "execution_count": 4,
      "outputs": [
        {
          "output_type": "stream",
          "text": [
            "increase\n",
            "play\n",
            "playing\n",
            "playing\n",
            "cat\n",
            "cactus\n",
            "goose\n",
            "rock\n",
            "python\n",
            "good\n",
            "best\n",
            "run\n",
            "run\n"
          ],
          "name": "stdout"
        }
      ]
    },
    {
      "metadata": {
        "id": "rMhFf_ou6Gjo",
        "colab_type": "text"
      },
      "cell_type": "markdown",
      "source": [
        ""
      ]
    },
    {
      "metadata": {
        "id": "7OAOtDDm6Gyr",
        "colab_type": "code",
        "colab": {
          "base_uri": "https://localhost:8080/",
          "height": 204
        },
        "outputId": "4158e6fd-26c5-4380-88e3-59cc2f5bd6ba"
      },
      "cell_type": "code",
      "source": [
        "import nltk\n",
        "nltk.download('wordnet')\n",
        "from nltk.stem import WordNetLemmatizer\n",
        "\n",
        "lemmatizer = WordNetLemmatizer()\n",
        "\n",
        "print(lemmatizer.lemmatize(\"cats\"))\n",
        "print(lemmatizer.lemmatize(\"cacti\"))\n",
        "print(lemmatizer.lemmatize(\"geese\"))\n",
        "print(lemmatizer.lemmatize(\"rocks\"))\n",
        "print(lemmatizer.lemmatize(\"python\"))\n",
        "print(lemmatizer.lemmatize(\"better\", pos=\"a\"))\n",
        "print(lemmatizer.lemmatize(\"best\", pos=\"a\"))\n",
        "print(lemmatizer.lemmatize(\"run\"))\n",
        "print(lemmatizer.lemmatize(\"run\",'v'))"
      ],
      "execution_count": 3,
      "outputs": [
        {
          "output_type": "stream",
          "text": [
            "[nltk_data] Downloading package wordnet to /root/nltk_data...\n",
            "[nltk_data]   Unzipping corpora/wordnet.zip.\n",
            "cat\n",
            "cactus\n",
            "goose\n",
            "rock\n",
            "python\n",
            "good\n",
            "best\n",
            "run\n",
            "run\n"
          ],
          "name": "stdout"
        }
      ]
    }
  ]
}