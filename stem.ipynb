{
  "nbformat": 4,
  "nbformat_minor": 0,
  "metadata": {
    "colab": {
      "name": "stem.ipynb",
      "version": "0.3.2",
      "provenance": [],
      "include_colab_link": true
    },
    "kernelspec": {
      "name": "python3",
      "display_name": "Python 3"
    }
  },
  "cells": [
    {
      "cell_type": "markdown",
      "metadata": {
        "id": "view-in-github",
        "colab_type": "text"
      },
      "source": [
        "<a href=\"https://colab.research.google.com/github/bshravan45/NLP/blob/master/stem.ipynb\" target=\"_parent\"><img src=\"https://colab.research.google.com/assets/colab-badge.svg\" alt=\"Open In Colab\"/></a>"
      ]
    },
    {
      "metadata": {
        "id": "Tw-qi5ek5C4j",
        "colab_type": "code",
        "colab": {
          "base_uri": "https://localhost:8080/",
          "height": 102
        },
        "outputId": "00ef4c9a-1c61-4d10-ed0f-bbc8c1ac1284"
      },
      "cell_type": "code",
      "source": [
        "## using nltk.stem\n",
        "\n",
        "from nltk.stem import PorterStemmer\n",
        "\n",
        "ps = PorterStemmer()\n",
        "\n",
        "example_words = [\"examine\",\"examination\",\"examiner\",\"examinate\",\"example\"]\n",
        "for w in example_words:\n",
        " print(ps.stem(w))"
      ],
      "execution_count": 1,
      "outputs": [
        {
          "output_type": "stream",
          "text": [
            "examin\n",
            "examin\n",
            "examin\n",
            "examin\n",
            "exampl\n"
          ],
          "name": "stdout"
        }
      ]
    }
  ]
}