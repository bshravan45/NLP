{
  "nbformat": 4,
  "nbformat_minor": 0,
  "metadata": {
    "colab": {
      "name": "Untitled2.ipynb",
      "version": "0.3.2",
      "provenance": [],
      "include_colab_link": true
    },
    "kernelspec": {
      "name": "python3",
      "display_name": "Python 3"
    }
  },
  "cells": [
    {
      "cell_type": "markdown",
      "metadata": {
        "id": "view-in-github",
        "colab_type": "text"
      },
      "source": [
        "<a href=\"https://colab.research.google.com/github/bshravan45/NLP/blob/master/PyPDF2_text_extractor.ipynb\" target=\"_parent\"><img src=\"https://colab.research.google.com/assets/colab-badge.svg\" alt=\"Open In Colab\"/></a>"
      ]
    },
    {
      "metadata": {
        "id": "tbsWh2Gc3Kiu",
        "colab_type": "code",
        "colab": {}
      },
      "cell_type": "code",
      "source": [
        "# extracting_text.py\n",
        " \n",
        "from PyPDF2 import PdfFileReader\n",
        " \n",
        " \n",
        "def text_extractor(path):\n",
        "    with open(path, 'rb') as f:\n",
        "        pdf = PdfFileReader(f)\n",
        " \n",
        "        # get the first page\n",
        "        page = pdf.getPage(0)\n",
        "      #  print(page)\n",
        "       #     print('Page type: {}'.format(str(type(page))))\n",
        " \n",
        "        text = page.extractText()\n",
        "        print(text)\n",
        " \n",
        " \n",
        "if __name__ == '__main__':\n",
        "    path = 'ARIMA.pdf'\n",
        "    text_extractor(path)"
      ],
      "execution_count": 0,
      "outputs": []
    }
  ]
}